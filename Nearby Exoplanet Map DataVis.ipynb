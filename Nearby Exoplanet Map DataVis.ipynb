{
 "cells": [
  {
   "cell_type": "code",
   "execution_count": 1,
   "metadata": {
    "collapsed": true
   },
   "outputs": [],
   "source": [
    "import matplotlib.pyplot as plt\n",
    "%matplotlib inline\n",
    "import pandas as pd\n",
    "import numpy as np"
   ]
  },
  {
   "cell_type": "code",
   "execution_count": 2,
   "metadata": {},
   "outputs": [
    {
     "name": "stdout",
     "output_type": "stream",
     "text": [
      "Downloading https://exoplanetarchive.ipac.caltech.edu/cgi-bin/nstedAPI/nph-nstedAPI?table=exoplanets&format=ascii [Done]\n"
     ]
    }
   ],
   "source": [
    "import astropy.io.ascii\n",
    "tabl=astropy.io.ascii.read('https://exoplanetarchive.ipac.caltech.edu/cgi-bin/nstedAPI/nph-nstedAPI?table=exoplanets&format=ascii')"
   ]
  },
  {
   "cell_type": "code",
   "execution_count": 3,
   "metadata": {
    "collapsed": true
   },
   "outputs": [],
   "source": [
    "#Using pandas because I understand it:\n",
    "table=tabl.to_pandas()"
   ]
  },
  {
   "cell_type": "markdown",
   "metadata": {},
   "source": [
    "### Turning RA/Dec/Distance into 3D coordinates with astropy:"
   ]
  },
  {
   "cell_type": "code",
   "execution_count": 5,
   "metadata": {
    "collapsed": true
   },
   "outputs": [],
   "source": [
    "from astropy.coordinates import SkyCoord\n",
    "import astropy.units as u"
   ]
  },
  {
   "cell_type": "code",
   "execution_count": 6,
   "metadata": {},
   "outputs": [],
   "source": [
    "sc=SkyCoord('17h57m48.49803s +04d41m36.2072s',unit=(u.hourangle, u.deg))"
   ]
  },
  {
   "cell_type": "code",
   "execution_count": 8,
   "metadata": {},
   "outputs": [
    {
     "data": {
      "text/plain": [
       "0"
      ]
     },
     "execution_count": 8,
     "metadata": {},
     "output_type": "execute_result"
    }
   ],
   "source": [
    "np.sum(np.array(['Barnard' in stname for stname in table.pl_hostname.values]))"
   ]
  },
  {
   "cell_type": "code",
   "execution_count": 9,
   "metadata": {
    "collapsed": true
   },
   "outputs": [],
   "source": [
    "#Adding barnard's star because it's not in the table yet :P\n",
    "extrarow=pd.Series({'pl_hostname':\"Barnards Star\",'pl_letter':'b','pl_name':\"Barnards Star b\",'pl_discmethod':\"Radial Velocity\",\n",
    "                    'st_mass':0.144,'st_rad':0.196,'st_dist':1.8266,'pl_bmassj':3.0,'pl_orbper':240,'pl_orbsmax':0.38358,\n",
    "                    'ra_str':'17h57m48.49803s','ra':sc.ra.deg,'dec_str':'+04d41m36.2072s','dec':sc.dec.deg},name='3836')"
   ]
  },
  {
   "cell_type": "code",
   "execution_count": 10,
   "metadata": {
    "collapsed": true
   },
   "outputs": [],
   "source": [
    "table=table.append(extrarow)"
   ]
  },
  {
   "cell_type": "markdown",
   "metadata": {},
   "source": [
    "### Taking only nearby stars:"
   ]
  },
  {
   "cell_type": "code",
   "execution_count": 11,
   "metadata": {
    "collapsed": true
   },
   "outputs": [],
   "source": [
    "near=table[table.st_dist<20]"
   ]
  },
  {
   "cell_type": "code",
   "execution_count": 12,
   "metadata": {
    "collapsed": true
   },
   "outputs": [],
   "source": [
    "allscs=SkyCoord(near.ra,near.dec,distance=near.st_dist,unit=(u.deg,u.deg,u.pc))"
   ]
  },
  {
   "cell_type": "code",
   "execution_count": 13,
   "metadata": {},
   "outputs": [
    {
     "name": "stderr",
     "output_type": "stream",
     "text": [
      "/Users/hosborn/anaconda3/lib/python3.6/site-packages/ipykernel_launcher.py:1: SettingWithCopyWarning: \n",
      "A value is trying to be set on a copy of a slice from a DataFrame.\n",
      "Try using .loc[row_indexer,col_indexer] = value instead\n",
      "\n",
      "See the caveats in the documentation: http://pandas.pydata.org/pandas-docs/stable/indexing.html#indexing-view-versus-copy\n",
      "  \"\"\"Entry point for launching an IPython kernel.\n",
      "/Users/hosborn/anaconda3/lib/python3.6/site-packages/ipykernel_launcher.py:2: SettingWithCopyWarning: \n",
      "A value is trying to be set on a copy of a slice from a DataFrame.\n",
      "Try using .loc[row_indexer,col_indexer] = value instead\n",
      "\n",
      "See the caveats in the documentation: http://pandas.pydata.org/pandas-docs/stable/indexing.html#indexing-view-versus-copy\n",
      "  \n",
      "/Users/hosborn/anaconda3/lib/python3.6/site-packages/ipykernel_launcher.py:3: SettingWithCopyWarning: \n",
      "A value is trying to be set on a copy of a slice from a DataFrame.\n",
      "Try using .loc[row_indexer,col_indexer] = value instead\n",
      "\n",
      "See the caveats in the documentation: http://pandas.pydata.org/pandas-docs/stable/indexing.html#indexing-view-versus-copy\n",
      "  This is separate from the ipykernel package so we can avoid doing imports until\n"
     ]
    }
   ],
   "source": [
    "near['b']=allscs.galactic.b.deg\n",
    "near['l']=allscs.galactic.l.deg\n",
    "near['d']=allscs.galactic.distance"
   ]
  },
  {
   "cell_type": "code",
   "execution_count": 62,
   "metadata": {
    "collapsed": true
   },
   "outputs": [],
   "source": [
    "# Placeholder as I work out the orientation of these 3D coordinates...\n",
    "#\n",
    "#3.35170258,  23.67992809,  4.31  ->  3.94036076,  0.230767484,   1.73101227\n",
    "# ^ towards galactic centre but moderately above.\n",
    "#90.0626363 , -34.72725534, 15.47 ->  -0.0138994771,  12.7143699e+01,  -8.8128034\n",
    "# ^ directly east of galactic and below plane\n",
    "# in-out, left-right, up-down"
   ]
  },
  {
   "cell_type": "code",
   "execution_count": 14,
   "metadata": {
    "scrolled": false
   },
   "outputs": [
    {
     "name": "stderr",
     "output_type": "stream",
     "text": [
      "/Users/hosborn/anaconda3/lib/python3.6/site-packages/ipykernel_launcher.py:1: SettingWithCopyWarning: \n",
      "A value is trying to be set on a copy of a slice from a DataFrame.\n",
      "Try using .loc[row_indexer,col_indexer] = value instead\n",
      "\n",
      "See the caveats in the documentation: http://pandas.pydata.org/pandas-docs/stable/indexing.html#indexing-view-versus-copy\n",
      "  \"\"\"Entry point for launching an IPython kernel.\n",
      "/Users/hosborn/anaconda3/lib/python3.6/site-packages/ipykernel_launcher.py:2: SettingWithCopyWarning: \n",
      "A value is trying to be set on a copy of a slice from a DataFrame.\n",
      "Try using .loc[row_indexer,col_indexer] = value instead\n",
      "\n",
      "See the caveats in the documentation: http://pandas.pydata.org/pandas-docs/stable/indexing.html#indexing-view-versus-copy\n",
      "  \n",
      "/Users/hosborn/anaconda3/lib/python3.6/site-packages/ipykernel_launcher.py:3: SettingWithCopyWarning: \n",
      "A value is trying to be set on a copy of a slice from a DataFrame.\n",
      "Try using .loc[row_indexer,col_indexer] = value instead\n",
      "\n",
      "See the caveats in the documentation: http://pandas.pydata.org/pandas-docs/stable/indexing.html#indexing-view-versus-copy\n",
      "  This is separate from the ipykernel package so we can avoid doing imports until\n"
     ]
    }
   ],
   "source": [
    "near['gal_inwards']=allscs.galactic.cartesian.x\n",
    "near['gal_eastwards']=allscs.galactic.cartesian.y\n",
    "near['gal_upwards']=allscs.galactic.cartesian.z"
   ]
  },
  {
   "cell_type": "markdown",
   "metadata": {},
   "source": [
    "For some reason some semi-major axes values are missing, so replacing manually:"
   ]
  },
  {
   "cell_type": "code",
   "execution_count": 18,
   "metadata": {},
   "outputs": [
    {
     "data": {
      "text/html": [
       "<div>\n",
       "<style scoped>\n",
       "    .dataframe tbody tr th:only-of-type {\n",
       "        vertical-align: middle;\n",
       "    }\n",
       "\n",
       "    .dataframe tbody tr th {\n",
       "        vertical-align: top;\n",
       "    }\n",
       "\n",
       "    .dataframe thead th {\n",
       "        text-align: right;\n",
       "    }\n",
       "</style>\n",
       "<table border=\"1\" class=\"dataframe\">\n",
       "  <thead>\n",
       "    <tr style=\"text-align: right;\">\n",
       "      <th></th>\n",
       "      <th>pl_hostname</th>\n",
       "      <th>pl_letter</th>\n",
       "      <th>pl_name</th>\n",
       "      <th>pl_discmethod</th>\n",
       "      <th>pl_pnum</th>\n",
       "      <th>pl_orbper</th>\n",
       "      <th>pl_orbpererr1</th>\n",
       "      <th>pl_orbpererr2</th>\n",
       "      <th>pl_orbperlim</th>\n",
       "      <th>pl_orbpern</th>\n",
       "      <th>...</th>\n",
       "      <th>st_radn</th>\n",
       "      <th>pl_nnotes</th>\n",
       "      <th>rowupdate</th>\n",
       "      <th>pl_facility</th>\n",
       "      <th>b</th>\n",
       "      <th>l</th>\n",
       "      <th>d</th>\n",
       "      <th>gal_inwards</th>\n",
       "      <th>gal_eastwards</th>\n",
       "      <th>gal_upwards</th>\n",
       "    </tr>\n",
       "  </thead>\n",
       "  <tbody>\n",
       "    <tr>\n",
       "      <th>742</th>\n",
       "      <td>GJ 676 A</td>\n",
       "      <td>d</td>\n",
       "      <td>GJ 676 A d</td>\n",
       "      <td>Radial Velocity</td>\n",
       "      <td>4.0</td>\n",
       "      <td>3.60050</td>\n",
       "      <td>0.0002</td>\n",
       "      <td>-0.0002</td>\n",
       "      <td>0.0</td>\n",
       "      <td>2.0</td>\n",
       "      <td>...</td>\n",
       "      <td>3.0</td>\n",
       "      <td>0.0</td>\n",
       "      <td>2016-09-29</td>\n",
       "      <td>La Silla Observatory</td>\n",
       "      <td>-9.542778</td>\n",
       "      <td>339.104005</td>\n",
       "      <td>16.90</td>\n",
       "      <td>15.569998</td>\n",
       "      <td>-5.944357</td>\n",
       "      <td>-2.801749</td>\n",
       "    </tr>\n",
       "    <tr>\n",
       "      <th>1374</th>\n",
       "      <td>HD 189733</td>\n",
       "      <td>b</td>\n",
       "      <td>HD 189733 b</td>\n",
       "      <td>Radial Velocity</td>\n",
       "      <td>1.0</td>\n",
       "      <td>2.21858</td>\n",
       "      <td>0.0000</td>\n",
       "      <td>0.0000</td>\n",
       "      <td>0.0</td>\n",
       "      <td>9.0</td>\n",
       "      <td>...</td>\n",
       "      <td>10.0</td>\n",
       "      <td>0.0</td>\n",
       "      <td>2018-04-26</td>\n",
       "      <td>Haute-Provence Observatory</td>\n",
       "      <td>-3.922262</td>\n",
       "      <td>60.963062</td>\n",
       "      <td>19.78</td>\n",
       "      <td>9.578199</td>\n",
       "      <td>17.253286</td>\n",
       "      <td>-1.353010</td>\n",
       "    </tr>\n",
       "    <tr>\n",
       "      <th>1856</th>\n",
       "      <td>GJ 676 A</td>\n",
       "      <td>e</td>\n",
       "      <td>GJ 676 A e</td>\n",
       "      <td>Radial Velocity</td>\n",
       "      <td>4.0</td>\n",
       "      <td>35.39000</td>\n",
       "      <td>0.0300</td>\n",
       "      <td>-0.0400</td>\n",
       "      <td>0.0</td>\n",
       "      <td>2.0</td>\n",
       "      <td>...</td>\n",
       "      <td>3.0</td>\n",
       "      <td>0.0</td>\n",
       "      <td>2016-09-29</td>\n",
       "      <td>La Silla Observatory</td>\n",
       "      <td>-9.542778</td>\n",
       "      <td>339.104005</td>\n",
       "      <td>16.90</td>\n",
       "      <td>15.569998</td>\n",
       "      <td>-5.944357</td>\n",
       "      <td>-2.801749</td>\n",
       "    </tr>\n",
       "    <tr>\n",
       "      <th>3304</th>\n",
       "      <td>TRAPPIST-1</td>\n",
       "      <td>h</td>\n",
       "      <td>TRAPPIST-1 h</td>\n",
       "      <td>Transit</td>\n",
       "      <td>7.0</td>\n",
       "      <td>18.76700</td>\n",
       "      <td>0.0040</td>\n",
       "      <td>-0.0030</td>\n",
       "      <td>0.0</td>\n",
       "      <td>2.0</td>\n",
       "      <td>...</td>\n",
       "      <td>2.0</td>\n",
       "      <td>0.0</td>\n",
       "      <td>2017-06-15</td>\n",
       "      <td>Multiple Observatories</td>\n",
       "      <td>-56.644264</td>\n",
       "      <td>69.712494</td>\n",
       "      <td>12.10</td>\n",
       "      <td>2.306806</td>\n",
       "      <td>6.240288</td>\n",
       "      <td>-10.106802</td>\n",
       "    </tr>\n",
       "    <tr>\n",
       "      <th>3713</th>\n",
       "      <td>HD 26965</td>\n",
       "      <td>b</td>\n",
       "      <td>HD 26965 b</td>\n",
       "      <td>Radial Velocity</td>\n",
       "      <td>1.0</td>\n",
       "      <td>42.37800</td>\n",
       "      <td>0.0100</td>\n",
       "      <td>-0.0100</td>\n",
       "      <td>0.0</td>\n",
       "      <td>1.0</td>\n",
       "      <td>...</td>\n",
       "      <td>4.0</td>\n",
       "      <td>0.0</td>\n",
       "      <td>2018-08-09</td>\n",
       "      <td>Multiple Observatories</td>\n",
       "      <td>-38.047816</td>\n",
       "      <td>200.752769</td>\n",
       "      <td>5.04</td>\n",
       "      <td>-3.711468</td>\n",
       "      <td>-1.406355</td>\n",
       "      <td>-3.106247</td>\n",
       "    </tr>\n",
       "  </tbody>\n",
       "</table>\n",
       "<p>5 rows × 87 columns</p>\n",
       "</div>"
      ],
      "text/plain": [
       "     pl_hostname pl_letter       pl_name    pl_discmethod  pl_pnum  pl_orbper  \\\n",
       "742     GJ 676 A         d    GJ 676 A d  Radial Velocity      4.0    3.60050   \n",
       "1374   HD 189733         b   HD 189733 b  Radial Velocity      1.0    2.21858   \n",
       "1856    GJ 676 A         e    GJ 676 A e  Radial Velocity      4.0   35.39000   \n",
       "3304  TRAPPIST-1         h  TRAPPIST-1 h          Transit      7.0   18.76700   \n",
       "3713    HD 26965         b    HD 26965 b  Radial Velocity      1.0   42.37800   \n",
       "\n",
       "      pl_orbpererr1  pl_orbpererr2  pl_orbperlim  pl_orbpern     ...       \\\n",
       "742          0.0002        -0.0002           0.0         2.0     ...        \n",
       "1374         0.0000         0.0000           0.0         9.0     ...        \n",
       "1856         0.0300        -0.0400           0.0         2.0     ...        \n",
       "3304         0.0040        -0.0030           0.0         2.0     ...        \n",
       "3713         0.0100        -0.0100           0.0         1.0     ...        \n",
       "\n",
       "      st_radn  pl_nnotes   rowupdate                 pl_facility          b  \\\n",
       "742       3.0        0.0  2016-09-29        La Silla Observatory  -9.542778   \n",
       "1374     10.0        0.0  2018-04-26  Haute-Provence Observatory  -3.922262   \n",
       "1856      3.0        0.0  2016-09-29        La Silla Observatory  -9.542778   \n",
       "3304      2.0        0.0  2017-06-15      Multiple Observatories -56.644264   \n",
       "3713      4.0        0.0  2018-08-09      Multiple Observatories -38.047816   \n",
       "\n",
       "               l      d  gal_inwards  gal_eastwards  gal_upwards  \n",
       "742   339.104005  16.90    15.569998      -5.944357    -2.801749  \n",
       "1374   60.963062  19.78     9.578199      17.253286    -1.353010  \n",
       "1856  339.104005  16.90    15.569998      -5.944357    -2.801749  \n",
       "3304   69.712494  12.10     2.306806       6.240288   -10.106802  \n",
       "3713  200.752769   5.04    -3.711468      -1.406355    -3.106247  \n",
       "\n",
       "[5 rows x 87 columns]"
      ]
     },
     "execution_count": 18,
     "metadata": {},
     "output_type": "execute_result"
    }
   ],
   "source": [
    "near.loc[pd.isnull(near.pl_orbsmax)]"
   ]
  },
  {
   "cell_type": "markdown",
   "metadata": {},
   "source": [
    "Taking colour of the points from the stellar mass, so using `digitize` to bin these:"
   ]
  },
  {
   "cell_type": "code",
   "execution_count": 21,
   "metadata": {},
   "outputs": [
    {
     "name": "stderr",
     "output_type": "stream",
     "text": [
      "/Users/hosborn/anaconda3/lib/python3.6/site-packages/ipykernel_launcher.py:2: SettingWithCopyWarning: \n",
      "A value is trying to be set on a copy of a slice from a DataFrame.\n",
      "Try using .loc[row_indexer,col_indexer] = value instead\n",
      "\n",
      "See the caveats in the documentation: http://pandas.pydata.org/pandas-docs/stable/indexing.html#indexing-view-versus-copy\n",
      "  \n"
     ]
    },
    {
     "data": {
      "image/png": "[encoded data removed]",
      "text/plain": [
       "<matplotlib.figure.Figure at 0x110804a20>"
      ]
     },
     "metadata": {},
     "output_type": "display_data"
    }
   ],
   "source": [
    "hist=plt.hist(near.st_mass,9)\n",
    "near['colorbin']=np.digitize(near.st_mass,hist[1])-1"
   ]
  },
  {
   "cell_type": "markdown",
   "metadata": {},
   "source": [
    "Tidying up the CSV:"
   ]
  },
  {
   "cell_type": "code",
   "execution_count": 19,
   "metadata": {},
   "outputs": [
    {
     "name": "stderr",
     "output_type": "stream",
     "text": [
      "/Users/hosborn/anaconda3/lib/python3.6/site-packages/pandas/core/indexing.py:537: SettingWithCopyWarning: \n",
      "A value is trying to be set on a copy of a slice from a DataFrame.\n",
      "Try using .loc[row_indexer,col_indexer] = value instead\n",
      "\n",
      "See the caveats in the documentation: http://pandas.pydata.org/pandas-docs/stable/indexing.html#indexing-view-versus-copy\n",
      "  self.obj[item] = s\n"
     ]
    }
   ],
   "source": [
    "near.loc[near.pl_name=='GJ 676 A e','pl_orbsmax']=0.187\n",
    "near.loc[near.pl_name=='HD 189733 b','pl_orbsmax']=0.03099 \n",
    "near.loc[near.pl_name=='GJ 676 A d','pl_orbsmax']=0.0413\n",
    "near.loc[near.pl_name=='TRAPPIST-1 h','pl_orbsmax']=0.063\n",
    "near.loc[near.pl_name=='HD 26965 b','pl_orbsmax']=0.224"
   ]
  },
  {
   "cell_type": "code",
   "execution_count": 22,
   "metadata": {},
   "outputs": [
    {
     "data": {
      "text/plain": [
       "['VHS J125601.92-125723.9', 'WISEP J121756.91+162640.2 A', 'Barnards Star']"
      ]
     },
     "execution_count": 22,
     "metadata": {},
     "output_type": "execute_result"
    }
   ],
   "source": [
    "[strname for strname in near.pl_hostname if len(strname)>12]"
   ]
  },
  {
   "cell_type": "code",
   "execution_count": 24,
   "metadata": {},
   "outputs": [
    {
     "name": "stderr",
     "output_type": "stream",
     "text": [
      "/Users/hosborn/anaconda3/lib/python3.6/site-packages/pandas/core/indexing.py:537: SettingWithCopyWarning: \n",
      "A value is trying to be set on a copy of a slice from a DataFrame.\n",
      "Try using .loc[row_indexer,col_indexer] = value instead\n",
      "\n",
      "See the caveats in the documentation: http://pandas.pydata.org/pandas-docs/stable/indexing.html#indexing-view-versus-copy\n",
      "  self.obj[item] = s\n"
     ]
    }
   ],
   "source": [
    "near.loc[near.pl_name=='VHS J125601.92-125723.9','pl_hostname']='VHS J1256'\n",
    "near.loc[near.pl_name=='WISEP J121756.91+162640.2 A','pl_hostname']='WISEP J1217'\n",
    "near.loc[near.pl_name=='VHS J125601.92-125723.9','pl_name']='VHS J1256 b'\n",
    "near.loc[near.pl_name=='WISEP J121756.91+162640.2 A','pl_name']='WISEP J1217 b'"
   ]
  },
  {
   "cell_type": "code",
   "execution_count": 25,
   "metadata": {},
   "outputs": [
    {
     "name": "stderr",
     "output_type": "stream",
     "text": [
      "/Users/hosborn/anaconda3/lib/python3.6/site-packages/pandas/core/indexing.py:537: SettingWithCopyWarning: \n",
      "A value is trying to be set on a copy of a slice from a DataFrame.\n",
      "Try using .loc[row_indexer,col_indexer] = value instead\n",
      "\n",
      "See the caveats in the documentation: http://pandas.pydata.org/pandas-docs/stable/indexing.html#indexing-view-versus-copy\n",
      "  self.obj[item] = s\n"
     ]
    }
   ],
   "source": [
    "near.loc[pd.isnull(near.st_rad),'st_rad']=near.loc[pd.isnull(near.st_rad),'st_mass'].values**0.85"
   ]
  },
  {
   "cell_type": "code",
   "execution_count": 26,
   "metadata": {
    "collapsed": true
   },
   "outputs": [],
   "source": [
    "near.to_csv('Nearest_planetary_systems_edited.csv')"
   ]
  },
  {
   "cell_type": "code",
   "execution_count": 28,
   "metadata": {},
   "outputs": [
    {
     "name": "stderr",
     "output_type": "stream",
     "text": [
      "/Users/hosborn/anaconda3/lib/python3.6/site-packages/ipykernel_launcher.py:3: FutureWarning: from_csv is deprecated. Please use read_csv(...) instead. Note that some of the default arguments are different, so please refer to the documentation for from_csv when changing your function calls\n",
      "  This is separate from the ipykernel package so we can avoid doing imports until\n"
     ]
    }
   ],
   "source": [
    "import pandas as pd\n",
    "import numpy as np\n",
    "near=pd.DataFrame.from_csv('Nearest_planetary_systems_edited.csv')"
   ]
  },
  {
   "cell_type": "markdown",
   "metadata": {},
   "source": [
    "Colour indexes (in sns \"muted\") for the detection methods:"
   ]
  },
  {
   "cell_type": "code",
   "execution_count": 34,
   "metadata": {
    "collapsed": true
   },
   "outputs": [],
   "source": [
    "disc_met_index={'Radial Velocity':0, 'Transit':3, 'Imaging':2}"
   ]
  },
  {
   "cell_type": "code",
   "execution_count": 29,
   "metadata": {
    "collapsed": true
   },
   "outputs": [],
   "source": [
    "import matplotlib.pyplot as plt\n",
    "%matplotlib inline"
   ]
  },
  {
   "cell_type": "code",
   "execution_count": 31,
   "metadata": {
    "collapsed": true
   },
   "outputs": [],
   "source": [
    "import seaborn as sns\n",
    "sns.set_style('white')\n",
    "sns.set(rc={'axes.facecolor':'#f4ecdc', 'figure.facecolor':'#ffffff'})\n",
    "#sns.set(rc={'axes.facecolor':'#ffffff', 'figure.facecolor':'#ffffff'})\n",
    "sns.set_palette(\"Spectral\", 10)"
   ]
  },
  {
   "cell_type": "markdown",
   "metadata": {},
   "source": [
    "#### Plotting:"
   ]
  },
  {
   "cell_type": "code",
   "execution_count": 35,
   "metadata": {},
   "outputs": [
    {
     "data": {
      "image/png": "[encoded data removed]",
      "text/plain": [
       "<matplotlib.figure.Figure at 0x117b4f748>"
      ]
     },
     "metadata": {},
     "output_type": "display_data"
    }
   ],
   "source": [
    "#sns.set(rc={'axes.facecolor':'#f4ecdc', 'figure.facecolor':'#ffffff'})\n",
    "plotsize=8.5\n",
    "vert_scale=0.05\n",
    "\n",
    "def smascale(sma):\n",
    "    return 0.85*sma**0.25\n",
    "\n",
    "def radscale(rad):\n",
    "    return 280*rad**0.66\n",
    "\n",
    "fig,ax1 = plt.subplots(1,figsize=(15,15))\n",
    "\n",
    "ax1.set_xlim(-1*plotsize,plotsize)\n",
    "ax1.set_ylim(-1*plotsize,plotsize)\n",
    "#bbox = ax1.get_window_extent().transformed(fig.dpi_scale_trans.inverted())\n",
    "#pix_per_pc_x, pix_per_pc_y = (bbox.width*fig.dpi)/(2*plotsize), (bbox.height*fig.dpi)/(2*plotsize)\n",
    "\n",
    "finalx=[];finaly=[];finals=[];cols=[];circles=[];names=[];initx=[];inity=[];finals_proj=[]\n",
    "#Looping over each star\n",
    "for starname in pd.unique(near.loc[(near.gal_eastwards**2+near.gal_inwards**2)<(plotsize*1.5)**2].pl_hostname):\n",
    "    star=near.loc[near.pl_hostname==starname].iloc[0]\n",
    "    dash_gs=vert_scale*np.hypot(star.gal_eastwards,star.gal_inwards)\n",
    "    zmult=1+vert_scale*star.gal_upwards\n",
    "    #print(int(np.round(dash_gs)), int(np.round(2*dash_gs)))\n",
    "    ls=':' if star.gal_upwards<0 else '-'\n",
    "    dashorder=-1 if star.gal_upwards<0 else 1\n",
    "    #Plotting dashed/solid lines from 2D position to 3D\n",
    "    ax1.plot([star.gal_eastwards,star.gal_eastwards*zmult],[star.gal_inwards,star.gal_inwards*zmult],\n",
    "             linestyle=ls,zorder=dashorder,alpha=0.5,color='#888888',linewidth=3)\n",
    "    initx+=[star.gal_eastwards]\n",
    "    inity+=[star.gal_inwards]\n",
    "    finalx+=[star.gal_eastwards*zmult]\n",
    "    finaly+=[star.gal_inwards*zmult]\n",
    "    finals+=[radscale(star.st_rad)]\n",
    "    finals_proj+=[finals[-1]/zmult**1.25]\n",
    "    cols+=[sns.color_palette('Spectral',10)[star['colorbin']]]\n",
    "    names+=[starname]\n",
    "    npl=0\n",
    "    #Plotting circles for each planet\n",
    "    for name,pl in near.loc[near.pl_hostname==starname].iterrows():\n",
    "        circles+=[plt.Circle((finalx[-1], finaly[-1]), 0.1*(npl+2),\n",
    "                             color=sns.color_palette('muted')[disc_met_index[pl['pl_discmethod']]],\n",
    "                             fill=False,alpha=0.75,zorder=dashorder*3,linewidth=1.5)]\n",
    "        npl+=1\n",
    "    #ax1.text(finalx[-1]+0.25*(npl),finaly[-1]+0.15*(npl),starname,fontsize=9, clip_on=True)\n",
    "    hal='right' if initx[-1]<0.0 else 'left'\n",
    "    val='bottom' if inity[-1]<0.0 or '28794' in starname else 'top'\n",
    "    #Plotting the text for the starname\n",
    "    ax1.text(initx[-1]+0.04,inity[-1]+0.04,starname,fontsize=9, clip_on=True,\n",
    "             horizontalalignment=hal,verticalalignment=val,zorder=4)\n",
    "\n",
    "#print(pl['pl_orbsmax'],pix_per_pc_x,pix_per_pc_y)\n",
    "#print(finalx[-1]+(5+smascale(pl['pl_orbsmax'])/pix_per_pc_x),finaly[-1]+(5+smascale(pl['pl_orbsmax'])/pix_per_pc_y),starname)\n",
    "#ax1.text(finalx[-1]+(5+smascale(np.max(near.loc[near.pl_hostname==starname,'pl_orbsmax'])))/pix_per_pc_x,finaly[-1]+(5+smascale(np.max(star['pl_orbsmax'])))/pix_per_pc_y,starname,fontsize=9)\n",
    "#ax1.scatter(near.loc[near.gal_upwards<0.0,'gal_eastwards'].values,near.loc[near.gal_upwards<0.0,'gal_inwards'].values,zorder=2)\n",
    "\n",
    "#Plotting the stars and the star \"shadows\" on the 2D plane\n",
    "\n",
    "below=np.array(finals_proj)<np.array(finals)\n",
    "ax1.scatter(np.array(finalx)[below],np.array(finaly)[below],s=np.array(finals)[below],zorder=4,c=np.array(cols)[below])\n",
    "ax1.scatter(np.array(finalx)[~below],np.array(finaly)[~below],s=np.array(finals)[~below],zorder=-4,c=np.array(cols)[~below])\n",
    "ax1.scatter(np.array(initx)[below],np.array(inity)[below],s=np.array(finals_proj)[below],c='#BBBBBB',facecolor=None,zorder=-3,alpha=0.6,marker='+')\n",
    "ax1.scatter(np.array(initx)[~below],np.array(inity)[~below],s=np.array(finals_proj)[~below],c='#BBBBBB',facecolor=None,zorder=3,alpha=0.6,marker='+')\n",
    "\n",
    "\n",
    "#Plotting the Sun!\n",
    "for npl,sma in enumerate([0.387,0.723,1.000,1.524,5.20,9.54,19.19,30.1]):\n",
    "    circles+=[plt.Circle((0,0), 0.1*(npl+2),\n",
    "                         color=sns.color_palette('muted')[1],\n",
    "                         fill=False,alpha=0.75,zorder=0,linewidth=1.5)]\n",
    "ax1.text(0.05,0.05,'Sun',fontsize=9, clip_on=True,horizontalalignment='left',verticalalignment='bottom',zorder=4)\n",
    "ax1.scatter(0.0,0.0,s=radscale(1.0),zorder=2,c=sns.color_palette('Spectral',10)[4])\n",
    "\n",
    "#Plotting 5, 10 and 15 parsec circles:\n",
    "circles+=[plt.Circle((0, 0), 5, color=sns.color_palette('muted')[4],fill=False,alpha=0.35,zorder=0,linewidth=1.5)]\n",
    "circles+=[plt.Circle((0, 0), 10, color=sns.color_palette('muted')[4],fill=False,alpha=0.35,zorder=0,linewidth=1.5)]\n",
    "circles+=[plt.Circle((0, 0), 15, color=sns.color_palette('muted')[4],fill=False,alpha=0.35,zorder=0,linewidth=1.5)]\n",
    "\n",
    "ax1.set_yticklabels([])\n",
    "ax1.set_xticklabels([])\n",
    "ax1.grid(False)\n",
    "\n",
    "for circ in circles:\n",
    "    ax1.add_artist(circ)\n",
    "    \n",
    "#Adding labels to those 1/15/15pc circles:\n",
    "ax1.text(5/np.sqrt(2),5/np.sqrt(2),'5pc',rotation=-45,color=sns.color_palette('muted')[4],zorder=0)\n",
    "ax1.text(10/np.sqrt(2),10/np.sqrt(2),'10pc',rotation=-45,color=sns.color_palette('muted')[4],zorder=0)\n",
    "ax1.text(-5/np.sqrt(2),-5/np.sqrt(2),'5pc',rotation=-45,color=sns.color_palette('muted')[4],zorder=0)\n",
    "ax1.text(10*np.cos(228/180*np.pi),10*np.sin(228/180*np.pi),'10pc',rotation=-42,color=sns.color_palette('muted')[4],zorder=0)\n",
    "\n",
    "#Adding Signature\n",
    "ax1.text(-11.25/np.sqrt(2),-11.65/np.sqrt(2),'Hugh Osborn\\n  @exohugh',color=sns.color_palette('muted')[4],zorder=-6,fontsize=18)\n",
    "\n",
    "#Adding arrow to galactic centre:\n",
    "plt.arrow(0,7.95,0.0,0.33,width=0.02,color=sns.color_palette('muted')[4],zorder=-6)\n",
    "ax1.text(-0.05,8.0,'Galactic\\nCentre',color=sns.color_palette('muted')[4],zorder=-6,fontsize=9,horizontalalignment='right')\n",
    "\n",
    "\n",
    "#Doing Legend myself:\n",
    "ax1.plot([-7.65,-7.65*1.06],[-5.93,-5.93*1.06],\n",
    "         linestyle='-',zorder=1,alpha=0.5,color='#888888',linewidth=3)\n",
    "ax1.scatter(-7.65,-5.93,s=60,marker='+',zorder=0,c='#BBBBBB',alpha=0.6,)\n",
    "ax1.scatter(-7.65*1.06,-5.93*1.06,s=60/1.2,c=sns.color_palette('Spectral',10)[2],zorder=2)\n",
    "ax1.text(-7.65,-5.93,\"Above\\ngalactic\\nplane\",fontsize=9, clip_on=True,horizontalalignment='left',verticalalignment='top',zorder=4)\n",
    "\n",
    "ax1.plot([-6.5,-6.5*0.94],[-6.45,-6.45*0.94],\n",
    "         linestyle=':',zorder=1,alpha=0.5,color='#888888',linewidth=3)\n",
    "ax1.scatter(-6.5,-6.45,s=90,marker='+',zorder=0,c='#BBBBBB',alpha=0.6,)\n",
    "ax1.scatter(-6.5*0.94,-6.45*0.94,s=90*1.2,c=sns.color_palette('Spectral',10)[5],zorder=-2)\n",
    "ax1.text(-6.5,-6.45,\"Below\\ngalactic\\nplane\",fontsize=9, clip_on=True,horizontalalignment='right',verticalalignment='bottom',zorder=4)\n",
    "\n",
    "#Doing \"planet detection method\" legend:\n",
    "legendcircles=[]\n",
    "ax1.scatter(-7.85,-7,s=120,c=sns.color_palette('Spectral',10)[6],zorder=0)\n",
    "for npl in range(2):\n",
    "    legendcircles+=[plt.Circle((-7.85,-7), 0.1*(npl+2),\n",
    "                     color=sns.color_palette('muted')[3],\n",
    "                     fill=False,alpha=0.75,zorder=0,linewidth=1.5)]\n",
    "ax1.text(-7.85,-7,'Transits',fontsize=9, clip_on=True,horizontalalignment='right',verticalalignment='bottom',zorder=4)\n",
    "\n",
    "ax1.scatter(-7.05,-7,s=70,c=sns.color_palette('Spectral',10)[3],zorder=0)\n",
    "for npl in range(3):\n",
    "    legendcircles+=[plt.Circle((-7.05,-7), 0.1*(npl+2),\n",
    "                     color=sns.color_palette('muted')[0],\n",
    "                     fill=False,alpha=0.75,zorder=0,linewidth=1.5)]\n",
    "ax1.text(-7.05,-7,'RVs',fontsize=9, clip_on=True,horizontalalignment='left',verticalalignment='bottom',zorder=4)\n",
    "\n",
    "ax1.scatter(-6.4,-7,s=70,c=sns.color_palette('Spectral',10)[0],zorder=0)\n",
    "for npl in range(1):\n",
    "    legendcircles+=[plt.Circle((-6.4,-7), 0.1*(npl+2),\n",
    "                     color=sns.color_palette('muted')[2],\n",
    "                     fill=False,alpha=0.75,zorder=0,linewidth=1.5)]\n",
    "ax1.text(-6.4,-7,'Imaging',fontsize=9, clip_on=True,horizontalalignment='left',verticalalignment='bottom',zorder=4)\n",
    "\n",
    "for circ in legendcircles:\n",
    "    ax1.add_artist(circ)\n",
    "\n",
    "#Removing whitespace\n",
    "fig.tight_layout()\n",
    "\n",
    "#Saving\n",
    "plt.savefig(\"AllNearbyPlanets_small.png\",dpi=200)\n",
    "plt.savefig(\"AllNearbyPlanets.png\",dpi=600)"
   ]
  },
  {
   "cell_type": "markdown",
   "metadata": {},
   "source": [
    "# Business card stuff:\n",
    "\n",
    "I'm gonna maybe put this design on a business card with \"above\" planets on one side and \"below\" planets on the other..."
   ]
  },
  {
   "cell_type": "code",
   "execution_count": 10,
   "metadata": {},
   "outputs": [
    {
     "data": {
      "image/png": "[encoded data removed]",
      "text/plain": [
       "<matplotlib.figure.Figure at 0x11b78bda0>"
      ]
     },
     "metadata": {},
     "output_type": "display_data"
    }
   ],
   "source": [
    "sns.set(rc={'axes.facecolor':'#f4ecdc', 'figure.facecolor':'#ffffff'})\n",
    "fig, (ax1,ax2) = plt.subplots(2,figsize=(8.5*1.2,2*5.5*1.2))\n",
    "ax1.set_yticklabels([])\n",
    "ax1.set_xticklabels([])\n",
    "ax1.grid(False)\n",
    "ax2.set_yticklabels([])\n",
    "ax2.set_xticklabels([])\n",
    "ax2.grid(False)\n",
    "\n",
    "fig.tight_layout()\n",
    "\n",
    "plt.savefig(\"BusinessCardColourBG_55x85.png\",dpi=500)"
   ]
  },
  {
   "cell_type": "code",
   "execution_count": 7,
   "metadata": {
    "collapsed": true
   },
   "outputs": [],
   "source": []
  },
  {
   "cell_type": "code",
   "execution_count": 4,
   "metadata": {
    "scrolled": false
   },
   "outputs": [
    {
     "name": "stderr",
     "output_type": "stream",
     "text": [
      "/Users/hosborn/anaconda3/lib/python3.6/site-packages/pandas/core/computation/expressions.py:179: UserWarning: evaluating in Python space because the '*' operator is not supported by numexpr for the bool dtype, use '&' instead\n",
      "  .format(op=op_str, alt_op=unsupported[op_str]))\n"
     ]
    },
    {
     "ename": "NameError",
     "evalue": "name 'disc_met_index' is not defined",
     "output_type": "error",
     "traceback": [
      "\u001b[0;31m-----------------------------------------------------------------\u001b[0m",
      "\u001b[0;31mNameError\u001b[0m                       Traceback (most recent call last)",
      "\u001b[0;32m<ipython-input-4-797e382b3baf>\u001b[0m in \u001b[0;36m<module>\u001b[0;34m()\u001b[0m\n\u001b[1;32m     34\u001b[0m     \u001b[0;32mfor\u001b[0m \u001b[0mname\u001b[0m\u001b[0;34m,\u001b[0m\u001b[0mpl\u001b[0m \u001b[0;32min\u001b[0m \u001b[0mnear\u001b[0m\u001b[0;34m.\u001b[0m\u001b[0mloc\u001b[0m\u001b[0;34m[\u001b[0m\u001b[0mnear\u001b[0m\u001b[0;34m.\u001b[0m\u001b[0mpl_hostname\u001b[0m\u001b[0;34m==\u001b[0m\u001b[0mstarname\u001b[0m\u001b[0;34m]\u001b[0m\u001b[0;34m.\u001b[0m\u001b[0miterrows\u001b[0m\u001b[0;34m(\u001b[0m\u001b[0;34m)\u001b[0m\u001b[0;34m:\u001b[0m\u001b[0;34m\u001b[0m\u001b[0m\n\u001b[1;32m     35\u001b[0m         circles+=[plt.Circle((finalx[-1], finaly[-1]), 0.2*(npl+2),\n\u001b[0;32m---> 36\u001b[0;31m                              \u001b[0mcolor\u001b[0m\u001b[0;34m=\u001b[0m\u001b[0msns\u001b[0m\u001b[0;34m.\u001b[0m\u001b[0mcolor_palette\u001b[0m\u001b[0;34m(\u001b[0m\u001b[0;34m'muted'\u001b[0m\u001b[0;34m)\u001b[0m\u001b[0;34m[\u001b[0m\u001b[0mdisc_met_index\u001b[0m\u001b[0;34m[\u001b[0m\u001b[0mpl\u001b[0m\u001b[0;34m[\u001b[0m\u001b[0;34m'pl_discmethod'\u001b[0m\u001b[0;34m]\u001b[0m\u001b[0;34m]\u001b[0m\u001b[0;34m]\u001b[0m\u001b[0;34m,\u001b[0m\u001b[0;34m\u001b[0m\u001b[0m\n\u001b[0m\u001b[1;32m     37\u001b[0m                              fill=False,alpha=0.75,zorder=0,linewidth=1.5)]\n\u001b[1;32m     38\u001b[0m         \u001b[0mnpl\u001b[0m\u001b[0;34m+=\u001b[0m\u001b[0;36m1\u001b[0m\u001b[0;34m\u001b[0m\u001b[0m\n",
      "\u001b[0;31mNameError\u001b[0m: name 'disc_met_index' is not defined"
     ]
    },
    {
     "data": {
      "image/png": "[encoded data removed]",
      "text/plain": [
       "<matplotlib.figure.Figure at 0x10860cd30>"
      ]
     },
     "metadata": {},
     "output_type": "display_data"
    }
   ],
   "source": [
    "sns.set(rc={'axes.facecolor':'#ffffff', 'figure.facecolor':'#ffffff'})\n",
    "plotsize=10.3\n",
    "vert_scale=0.05\n",
    "\n",
    "def smascale(sma):\n",
    "    return 0.85*sma**0.25\n",
    "\n",
    "def radscale(rad):\n",
    "    return 280*rad**0.66\n",
    "\n",
    "fig, (ax1,ax2) = plt.subplots(2,figsize=(8.5*1.2,2*5.5*1.2))\n",
    "\n",
    "ax1.set_xlim(-1*plotsize,plotsize)\n",
    "ax1.set_ylim(-1*plotsize*55/85.0,plotsize*55/85.0)\n",
    "bbox = ax1.get_window_extent().transformed(fig.dpi_scale_trans.inverted())\n",
    "pix_per_pc_x, pix_per_pc_y = (bbox.width*fig.dpi)/(2*plotsize), (bbox.height*fig.dpi)/(2*plotsize/np.sqrt(2))\n",
    "\n",
    "finalx=[];finaly=[];finals=[];cols=[];circles=[];names=[]\n",
    "for starname in pd.unique(near.loc[(near.gal_upwards<0.0)*(near.st_dist<plotsize*1.25)].pl_hostname):\n",
    "    star=near.loc[near.pl_hostname==starname].iloc[0]\n",
    "    dash_gs=vert_scale*np.hypot(star.gal_eastwards,star.gal_inwards)\n",
    "    zmult=1+vert_scale*abs(star.gal_upwards)\n",
    "    #print(int(np.round(dash_gs)), int(np.round(2*dash_gs)))\n",
    "    ax1.plot([star.gal_eastwards,star.gal_eastwards*zmult],[star.gal_inwards,star.gal_inwards*zmult],\n",
    "             linestyle=':', dashes=(0.25+int(np.round(dash_gs)), 0.25+int(np.round(2*dash_gs))),\n",
    "             zorder=1,alpha=0.75,color='#888888',linewidth=3)\n",
    "\n",
    "    finalx+=[star.gal_eastwards*zmult]\n",
    "    finaly+=[star.gal_inwards*zmult]\n",
    "    finals+=[radscale(star.st_rad)]\n",
    "    cols+=[sns.color_palette('Spectral',10)[star['colorbin']]]\n",
    "    names+=[starname]\n",
    "    npl=0\n",
    "    for name,pl in near.loc[near.pl_hostname==starname].iterrows():\n",
    "        circles+=[plt.Circle((finalx[-1], finaly[-1]), 0.2*(npl+2),\n",
    "                             color=sns.color_palette('muted')[disc_met_index[pl['pl_discmethod']]],\n",
    "                             fill=False,alpha=0.75,zorder=0,linewidth=1.5)]\n",
    "        npl+=1\n",
    "    #ax1.text(finalx[-1]+0.25*(npl),finaly[-1]+0.15*(npl),starname,fontsize=9)\n",
    "#print(pl['pl_orbsmax'],pix_per_pc_x,pix_per_pc_y)\n",
    "#print(finalx[-1]+(5+smascale(pl['pl_orbsmax'])/pix_per_pc_x),finaly[-1]+(5+smascale(pl['pl_orbsmax'])/pix_per_pc_y),starname)\n",
    "#ax1.text(finalx[-1]+(5+smascale(np.max(near.loc[near.pl_hostname==starname,'pl_orbsmax'])))/pix_per_pc_x,finaly[-1]+(5+smascale(np.max(star['pl_orbsmax'])))/pix_per_pc_y,starname,fontsize=9)\n",
    "#ax1.scatter(near.loc[near.gal_upwards<0.0,'gal_eastwards'].values,near.loc[near.gal_upwards<0.0,'gal_inwards'].values,zorder=2)\n",
    "ax1.scatter(finalx,finaly,s=finals,zorder=2,c=cols)\n",
    "\n",
    "#Plotting the Sun!\n",
    "for npl,sma in enumerate([0.387,0.723,1.000,1.524,5.20,9.54,19.19,30.1,39.5]):\n",
    "    circles+=[plt.Circle((0,0), 0.2*(npl+2),\n",
    "                         color=sns.color_palette('muted')[1],\n",
    "                         fill=False,alpha=0.75,zorder=0,linewidth=1.5)]\n",
    "ax1.scatter(0.0,0.0,s=radscale(1.0),zorder=2,c=sns.color_palette('Spectral',10)[4])\n",
    "\n",
    "circles+=[plt.Circle((0, 0), 5, color=sns.color_palette('muted')[4],fill=False,alpha=0.35,zorder=0,linewidth=1.5)]\n",
    "circles+=[plt.Circle((0, 0), 10, color=sns.color_palette('muted')[4],fill=False,alpha=0.35,zorder=0,linewidth=1.5)]\n",
    "circles+=[plt.Circle((0, 0), 15, color=sns.color_palette('muted')[4],fill=False,alpha=0.35,zorder=0,linewidth=1.5)]\n",
    "\n",
    "ax1.set_yticklabels([])\n",
    "ax1.set_xticklabels([])\n",
    "ax1.grid(False)\n",
    "\n",
    "for circ in circles:\n",
    "    ax1.add_artist(circ)\n",
    "\n",
    "\n",
    "\n",
    "finalx2=[];finaly2=[];finals2=[];cols2=[];circles2=[];names2=[]\n",
    "for starname in pd.unique(near.loc[(near.gal_upwards>=0.0)*(near.st_dist<plotsize*1.25)].pl_hostname):\n",
    "    star=near.loc[near.pl_hostname==starname].iloc[0]\n",
    "    dash_gs=vert_scale*np.hypot(star.gal_eastwards,star.gal_inwards)\n",
    "    zmult=1+vert_scale*abs(star.gal_upwards)\n",
    "    #print(int(np.round(dash_gs)), int(np.round(2*dash_gs)))\n",
    "    ax2.plot([star.gal_eastwards,star.gal_eastwards*zmult],[-1*star.gal_inwards,-1*star.gal_inwards*zmult],\n",
    "             linestyle=':', dashes=(0.25+int(np.round(dash_gs)), 0.25+int(np.round(2*dash_gs))),\n",
    "             zorder=1,alpha=0.75,color='#888888',linewidth=3)\n",
    "\n",
    "    finalx2+=[star.gal_eastwards*zmult]\n",
    "    finaly2+=[-1*star.gal_inwards*zmult]\n",
    "    finals2+=[radscale(star.st_rad)]\n",
    "    cols2+=[sns.color_palette('Spectral',10)[star['colorbin']]]\n",
    "    names2+=[starname]\n",
    "    \n",
    "    npl=0\n",
    "    for name,pl in near.loc[near.pl_hostname==starname].iterrows():\n",
    "        circles2+=[plt.Circle((finalx2[-1], finaly2[-1]), 0.2*(npl+2),\n",
    "                             color=sns.color_palette('muted')[disc_met_index[pl['pl_discmethod']]],\n",
    "                             fill=False,alpha=0.75,zorder=0,linewidth=1.5)]\n",
    "        npl+=1\n",
    "        #print(pl.pl_name,star.gal_eastwards*zmult,star.gal_inwards*zmult,star.gal_upwards,smascale(pl['pl_orbsmax']),sns.color_palette('Spectral',10)[star['colorbin']],sns.color_palette('muted')[disc_met_index[pl['pl_discmethod']]])\n",
    "    #ax2.text(finalx2[-1]+0.25*(npl),finaly2[-1]+0.15*(npl),starname,fontsize=9)\n",
    "#ax2.text(finalx2[-1]+(5+smascale(np.max(near.loc[near.pl_hostname==starname,'pl_orbsmax'])))/pix_per_pc_x,finaly2[-1]+(5+smascale(np.max(star['pl_orbsmax'])))/pix_per_pc_y,starname,fontsize=9)\n",
    "#ax2.scatter(near.loc[near.gal_upwards<0.0,'gal_eastwards'].values,near.loc[near.gal_upwards<0.0,'gal_inwards'].values,zorder=2)\n",
    "ax2.scatter(finalx2,finaly2,s=finals2,zorder=2,c=cols2)\n",
    "ax2.scatter(finalx,-1*np.array(finaly),s=finals,c='#BBBBBB',facecolors='none',zorder=-1,alpha=0.3)\n",
    "ax1.scatter(finalx2,-1*np.array(finaly2),s=finals2,c='#BBBBBB',facecolors='none',zorder=-1,alpha=0.3)\n",
    "\n",
    "print(finals)\n",
    "\n",
    "#Plotting the Sun!\n",
    "for npl,sma in enumerate([0.387,0.723,1.000,1.524,5.20,9.54,19.19,30.1,39.5]):\n",
    "    circles2+=[plt.Circle((0,0), 0.2*(npl+2),\n",
    "                         color=sns.color_palette('muted')[1],\n",
    "                         fill=False,alpha=0.75,zorder=0,linewidth=1.5)]\n",
    "ax2.scatter(0.0,0.0,s=radscale(1.0),zorder=2,c=sns.color_palette('Spectral',10)[4])\n",
    "\n",
    "circles2+=[plt.Circle((0, 0), 5, color=sns.color_palette('muted')[4],fill=False,alpha=0.35,zorder=0,linewidth=1.5)]\n",
    "circles2+=[plt.Circle((0, 0), 10, color=sns.color_palette('muted')[4],fill=False,alpha=0.35,zorder=0,linewidth=1.5)]\n",
    "circles2+=[plt.Circle((0, 0), 15, color=sns.color_palette('muted')[4],fill=False,alpha=0.35,zorder=0,linewidth=1.5)]\n",
    "\n",
    "ax2.set_yticklabels([])\n",
    "ax2.set_xticklabels([])\n",
    "ax2.grid(False)\n",
    "\n",
    "for circ in circles2:\n",
    "    ax2.add_artist(circ)\n",
    "\n",
    "ax2.set_xlim(-1*plotsize,plotsize)\n",
    "ax2.set_ylim(-1*plotsize*55/85.0,plotsize*55/85.0)\n",
    "\n",
    "fig.tight_layout()\n",
    "\n",
    "plt.savefig(\"BusinessCardDesigns_55x85.png\",dpi=500)"
   ]
  },
  {
   "cell_type": "code",
   "execution_count": null,
   "metadata": {
    "collapsed": true
   },
   "outputs": [],
   "source": []
  },
  {
   "cell_type": "code",
   "execution_count": 43,
   "metadata": {
    "collapsed": true
   },
   "outputs": [],
   "source": [
    "ax1.arrow?"
   ]
  },
  {
   "cell_type": "code",
   "execution_count": null,
   "metadata": {
    "collapsed": true
   },
   "outputs": [],
   "source": []
  },
  {
   "cell_type": "code",
   "execution_count": 39,
   "metadata": {},
   "outputs": [
    {
     "data": {
      "text/html": [
       "<div>\n",
       "<style scoped>\n",
       "    .dataframe tbody tr th:only-of-type {\n",
       "        vertical-align: middle;\n",
       "    }\n",
       "\n",
       "    .dataframe tbody tr th {\n",
       "        vertical-align: top;\n",
       "    }\n",
       "\n",
       "    .dataframe thead th {\n",
       "        text-align: right;\n",
       "    }\n",
       "</style>\n",
       "<table border=\"1\" class=\"dataframe\">\n",
       "  <thead>\n",
       "    <tr style=\"text-align: right;\">\n",
       "      <th></th>\n",
       "      <th>pl_hostname</th>\n",
       "      <th>pl_letter</th>\n",
       "      <th>pl_name</th>\n",
       "      <th>pl_discmethod</th>\n",
       "      <th>pl_pnum</th>\n",
       "      <th>pl_orbper</th>\n",
       "      <th>pl_orbpererr1</th>\n",
       "      <th>pl_orbpererr2</th>\n",
       "      <th>pl_orbperlim</th>\n",
       "      <th>pl_orbpern</th>\n",
       "      <th>...</th>\n",
       "      <th>pl_nnotes</th>\n",
       "      <th>rowupdate</th>\n",
       "      <th>pl_facility</th>\n",
       "      <th>b</th>\n",
       "      <th>l</th>\n",
       "      <th>d</th>\n",
       "      <th>gal_inwards</th>\n",
       "      <th>gal_eastwards</th>\n",
       "      <th>gal_upwards</th>\n",
       "      <th>colorbin</th>\n",
       "    </tr>\n",
       "  </thead>\n",
       "  <tbody>\n",
       "    <tr>\n",
       "      <th>3327</th>\n",
       "      <td>YZ Cet</td>\n",
       "      <td>b</td>\n",
       "      <td>YZ Cet b</td>\n",
       "      <td>Radial Velocity</td>\n",
       "      <td>3.0</td>\n",
       "      <td>1.96876</td>\n",
       "      <td>0.00021</td>\n",
       "      <td>-0.00021</td>\n",
       "      <td>0.0</td>\n",
       "      <td>1.0</td>\n",
       "      <td>...</td>\n",
       "      <td>0.0</td>\n",
       "      <td>2017-08-24</td>\n",
       "      <td>La Silla Observatory</td>\n",
       "      <td>-78.759673</td>\n",
       "      <td>149.705273</td>\n",
       "      <td>3.6</td>\n",
       "      <td>-0.605902</td>\n",
       "      <td>0.353986</td>\n",
       "      <td>-3.530946</td>\n",
       "      <td>0</td>\n",
       "    </tr>\n",
       "    <tr>\n",
       "      <th>3328</th>\n",
       "      <td>YZ Cet</td>\n",
       "      <td>c</td>\n",
       "      <td>YZ Cet c</td>\n",
       "      <td>Radial Velocity</td>\n",
       "      <td>3.0</td>\n",
       "      <td>3.06008</td>\n",
       "      <td>0.00022</td>\n",
       "      <td>-0.00022</td>\n",
       "      <td>0.0</td>\n",
       "      <td>1.0</td>\n",
       "      <td>...</td>\n",
       "      <td>0.0</td>\n",
       "      <td>2017-08-24</td>\n",
       "      <td>La Silla Observatory</td>\n",
       "      <td>-78.759673</td>\n",
       "      <td>149.705273</td>\n",
       "      <td>3.6</td>\n",
       "      <td>-0.605902</td>\n",
       "      <td>0.353986</td>\n",
       "      <td>-3.530946</td>\n",
       "      <td>0</td>\n",
       "    </tr>\n",
       "    <tr>\n",
       "      <th>3329</th>\n",
       "      <td>YZ Cet</td>\n",
       "      <td>d</td>\n",
       "      <td>YZ Cet d</td>\n",
       "      <td>Radial Velocity</td>\n",
       "      <td>3.0</td>\n",
       "      <td>4.65627</td>\n",
       "      <td>0.00042</td>\n",
       "      <td>-0.00042</td>\n",
       "      <td>0.0</td>\n",
       "      <td>1.0</td>\n",
       "      <td>...</td>\n",
       "      <td>0.0</td>\n",
       "      <td>2017-08-24</td>\n",
       "      <td>La Silla Observatory</td>\n",
       "      <td>-78.759673</td>\n",
       "      <td>149.705273</td>\n",
       "      <td>3.6</td>\n",
       "      <td>-0.605902</td>\n",
       "      <td>0.353986</td>\n",
       "      <td>-3.530946</td>\n",
       "      <td>0</td>\n",
       "    </tr>\n",
       "  </tbody>\n",
       "</table>\n",
       "<p>3 rows × 88 columns</p>\n",
       "</div>"
      ],
      "text/plain": [
       "     pl_hostname pl_letter   pl_name    pl_discmethod  pl_pnum  pl_orbper  \\\n",
       "3327      YZ Cet         b  YZ Cet b  Radial Velocity      3.0    1.96876   \n",
       "3328      YZ Cet         c  YZ Cet c  Radial Velocity      3.0    3.06008   \n",
       "3329      YZ Cet         d  YZ Cet d  Radial Velocity      3.0    4.65627   \n",
       "\n",
       "      pl_orbpererr1  pl_orbpererr2  pl_orbperlim  pl_orbpern    ...     \\\n",
       "3327        0.00021       -0.00021           0.0         1.0    ...      \n",
       "3328        0.00022       -0.00022           0.0         1.0    ...      \n",
       "3329        0.00042       -0.00042           0.0         1.0    ...      \n",
       "\n",
       "      pl_nnotes   rowupdate           pl_facility          b           l    d  \\\n",
       "3327        0.0  2017-08-24  La Silla Observatory -78.759673  149.705273  3.6   \n",
       "3328        0.0  2017-08-24  La Silla Observatory -78.759673  149.705273  3.6   \n",
       "3329        0.0  2017-08-24  La Silla Observatory -78.759673  149.705273  3.6   \n",
       "\n",
       "      gal_inwards  gal_eastwards  gal_upwards  colorbin  \n",
       "3327    -0.605902       0.353986    -3.530946         0  \n",
       "3328    -0.605902       0.353986    -3.530946         0  \n",
       "3329    -0.605902       0.353986    -3.530946         0  \n",
       "\n",
       "[3 rows x 88 columns]"
      ]
     },
     "execution_count": 39,
     "metadata": {},
     "output_type": "execute_result"
    }
   ],
   "source": [
    "near.loc[near.pl_hostname=='YZ Cet']"
   ]
  },
  {
   "cell_type": "code",
   "execution_count": 41,
   "metadata": {},
   "outputs": [
    {
     "data": {
      "text/html": [
       "<div>\n",
       "<style scoped>\n",
       "    .dataframe tbody tr th:only-of-type {\n",
       "        vertical-align: middle;\n",
       "    }\n",
       "\n",
       "    .dataframe tbody tr th {\n",
       "        vertical-align: top;\n",
       "    }\n",
       "\n",
       "    .dataframe thead th {\n",
       "        text-align: right;\n",
       "    }\n",
       "</style>\n",
       "<table border=\"1\" class=\"dataframe\">\n",
       "  <thead>\n",
       "    <tr style=\"text-align: right;\">\n",
       "      <th></th>\n",
       "      <th>pl_hostname</th>\n",
       "      <th>pl_letter</th>\n",
       "      <th>pl_name</th>\n",
       "      <th>pl_discmethod</th>\n",
       "      <th>pl_pnum</th>\n",
       "      <th>pl_orbper</th>\n",
       "      <th>pl_orbpererr1</th>\n",
       "      <th>pl_orbpererr2</th>\n",
       "      <th>pl_orbperlim</th>\n",
       "      <th>pl_orbpern</th>\n",
       "      <th>...</th>\n",
       "      <th>pl_nnotes</th>\n",
       "      <th>rowupdate</th>\n",
       "      <th>pl_facility</th>\n",
       "      <th>b</th>\n",
       "      <th>l</th>\n",
       "      <th>d</th>\n",
       "      <th>gal_inwards</th>\n",
       "      <th>gal_eastwards</th>\n",
       "      <th>gal_upwards</th>\n",
       "      <th>colorbin</th>\n",
       "    </tr>\n",
       "  </thead>\n",
       "  <tbody>\n",
       "    <tr>\n",
       "      <th>3187</th>\n",
       "      <td>Proxima Cen</td>\n",
       "      <td>b</td>\n",
       "      <td>Proxima Cen b</td>\n",
       "      <td>Radial Velocity</td>\n",
       "      <td>1.0</td>\n",
       "      <td>11.186</td>\n",
       "      <td>0.001</td>\n",
       "      <td>-0.002</td>\n",
       "      <td>0.0</td>\n",
       "      <td>1.0</td>\n",
       "      <td>...</td>\n",
       "      <td>0.0</td>\n",
       "      <td>2016-08-25</td>\n",
       "      <td>European Southern Observatory</td>\n",
       "      <td>-1.927146</td>\n",
       "      <td>313.939869</td>\n",
       "      <td>1.29</td>\n",
       "      <td>0.894629</td>\n",
       "      <td>-0.928363</td>\n",
       "      <td>-0.043381</td>\n",
       "      <td>0</td>\n",
       "    </tr>\n",
       "  </tbody>\n",
       "</table>\n",
       "<p>1 rows × 88 columns</p>\n",
       "</div>"
      ],
      "text/plain": [
       "      pl_hostname pl_letter        pl_name    pl_discmethod  pl_pnum  \\\n",
       "3187  Proxima Cen         b  Proxima Cen b  Radial Velocity      1.0   \n",
       "\n",
       "      pl_orbper  pl_orbpererr1  pl_orbpererr2  pl_orbperlim  pl_orbpern  \\\n",
       "3187     11.186          0.001         -0.002           0.0         1.0   \n",
       "\n",
       "        ...     pl_nnotes   rowupdate                    pl_facility  \\\n",
       "3187    ...           0.0  2016-08-25  European Southern Observatory   \n",
       "\n",
       "             b           l     d  gal_inwards  gal_eastwards  gal_upwards  \\\n",
       "3187 -1.927146  313.939869  1.29     0.894629      -0.928363    -0.043381   \n",
       "\n",
       "      colorbin  \n",
       "3187         0  \n",
       "\n",
       "[1 rows x 88 columns]"
      ]
     },
     "execution_count": 41,
     "metadata": {},
     "output_type": "execute_result"
    }
   ],
   "source": [
    "near.loc[near.pl_hostname=='Proxima Cen']"
   ]
  },
  {
   "cell_type": "code",
   "execution_count": null,
   "metadata": {
    "collapsed": true
   },
   "outputs": [],
   "source": []
  },
  {
   "cell_type": "code",
   "execution_count": null,
   "metadata": {
    "collapsed": true
   },
   "outputs": [],
   "source": []
  },
  {
   "cell_type": "code",
   "execution_count": 196,
   "metadata": {},
   "outputs": [
    {
     "data": {
      "text/plain": [
       "(-14.814432724872365, -0.3066281443191794)"
      ]
     },
     "execution_count": 196,
     "metadata": {},
     "output_type": "execute_result"
    }
   ],
   "source": [
    "finalx[2],finaly[2]"
   ]
  },
  {
   "cell_type": "code",
   "execution_count": null,
   "metadata": {
    "collapsed": true
   },
   "outputs": [],
   "source": []
  },
  {
   "cell_type": "code",
   "execution_count": null,
   "metadata": {
    "collapsed": true
   },
   "outputs": [],
   "source": []
  },
  {
   "cell_type": "code",
   "execution_count": 192,
   "metadata": {},
   "outputs": [
    {
     "data": {
      "text/plain": [
       "<matplotlib.collections.PathCollection at 0x11661f828>"
      ]
     },
     "execution_count": 192,
     "metadata": {},
     "output_type": "execute_result"
    },
    {
     "data": {
      "image/png": "[encoded data removed]",
      "text/plain": [
       "<matplotlib.figure.Figure at 0x11302efd0>"
      ]
     },
     "metadata": {},
     "output_type": "display_data"
    }
   ],
   "source": [
    "plt.scatter(finalx2,finaly2,s=finals2,zorder=2,c=cols2)"
   ]
  },
  {
   "cell_type": "code",
   "execution_count": 194,
   "metadata": {},
   "outputs": [
    {
     "data": {
      "text/plain": [
       "<matplotlib.collections.PathCollection at 0x112be3828>"
      ]
     },
     "execution_count": 194,
     "metadata": {},
     "output_type": "execute_result"
    },
    {
     "data": {
      "image/png": "[encoded data removed]",
      "text/plain": [
       "<matplotlib.figure.Figure at 0x1166355c0>"
      ]
     },
     "metadata": {},
     "output_type": "display_data"
    }
   ],
   "source": [
    "plt.scatter(finalx,finaly,s=finals,zorder=2,c=cols)"
   ]
  },
  {
   "cell_type": "code",
   "execution_count": null,
   "metadata": {
    "collapsed": true
   },
   "outputs": [],
   "source": []
  },
  {
   "cell_type": "code",
   "execution_count": null,
   "metadata": {
    "collapsed": true
   },
   "outputs": [],
   "source": []
  },
  {
   "cell_type": "code",
   "execution_count": null,
   "metadata": {
    "collapsed": true
   },
   "outputs": [],
   "source": []
  },
  {
   "cell_type": "code",
   "execution_count": null,
   "metadata": {
    "collapsed": true
   },
   "outputs": [],
   "source": []
  },
  {
   "cell_type": "code",
   "execution_count": null,
   "metadata": {
    "collapsed": true
   },
   "outputs": [],
   "source": []
  },
  {
   "cell_type": "code",
   "execution_count": null,
   "metadata": {
    "collapsed": true
   },
   "outputs": [],
   "source": []
  },
  {
   "cell_type": "code",
   "execution_count": null,
   "metadata": {
    "collapsed": true
   },
   "outputs": [],
   "source": []
  },
  {
   "cell_type": "code",
   "execution_count": 175,
   "metadata": {},
   "outputs": [
    {
     "data": {
      "text/plain": [
       "[(0.9946943483275663, 0.8092272202998846, 0.48696655132641287),\n",
       " (0.9817762399077278, 0.6073817762399076, 0.3457900807381776),\n",
       " (0.9946943483275663, 0.8092272202998846, 0.48696655132641287),\n",
       " (0.9330257593233372, 0.3913110342176086, 0.27197231833910035),\n",
       " (0.9817762399077278, 0.6073817762399076, 0.3457900807381776),\n",
       " (0.9330257593233372, 0.3913110342176086, 0.27197231833910035),\n",
       " (0.9946943483275663, 0.8092272202998846, 0.48696655132641287),\n",
       " (0.9946943483275663, 0.8092272202998846, 0.48696655132641287),\n",
       " (0.3600153787004998, 0.7161860822760476, 0.6655132641291811),\n",
       " (0.9946943483275663, 0.8092272202998846, 0.48696655132641287),\n",
       " (0.8141484044598232, 0.2196847366397539, 0.3048058439061899),\n",
       " (0.9946943483275663, 0.8092272202998846, 0.48696655132641287),\n",
       " (0.9330257593233372, 0.3913110342176086, 0.27197231833910035),\n",
       " (0.9330257593233372, 0.3913110342176086, 0.27197231833910035),\n",
       " (0.8141484044598232, 0.2196847366397539, 0.3048058439061899),\n",
       " (0.8141484044598232, 0.2196847366397539, 0.3048058439061899),\n",
       " (0.9330257593233372, 0.3913110342176086, 0.27197231833910035),\n",
       " (0.8141484044598232, 0.2196847366397539, 0.3048058439061899),\n",
       " (0.9946943483275663, 0.8092272202998846, 0.48696655132641287),\n",
       " (0.8141484044598232, 0.2196847366397539, 0.3048058439061899),\n",
       " (0.9330257593233372, 0.3913110342176086, 0.27197231833910035),\n",
       " (0.9817762399077278, 0.6073817762399076, 0.3457900807381776),\n",
       " (0.9946943483275663, 0.8092272202998846, 0.48696655132641287)]"
      ]
     },
     "execution_count": 175,
     "metadata": {},
     "output_type": "execute_result"
    }
   ],
   "source": [
    "cols"
   ]
  },
  {
   "cell_type": "code",
   "execution_count": null,
   "metadata": {
    "collapsed": true
   },
   "outputs": [],
   "source": []
  },
  {
   "cell_type": "code",
   "execution_count": null,
   "metadata": {
    "collapsed": true
   },
   "outputs": [],
   "source": []
  },
  {
   "cell_type": "code",
   "execution_count": null,
   "metadata": {
    "collapsed": true
   },
   "outputs": [],
   "source": []
  },
  {
   "cell_type": "code",
   "execution_count": null,
   "metadata": {
    "collapsed": true
   },
   "outputs": [],
   "source": []
  },
  {
   "cell_type": "code",
   "execution_count": null,
   "metadata": {
    "collapsed": true
   },
   "outputs": [],
   "source": []
  },
  {
   "cell_type": "code",
   "execution_count": null,
   "metadata": {
    "collapsed": true
   },
   "outputs": [],
   "source": []
  },
  {
   "cell_type": "code",
   "execution_count": 171,
   "metadata": {},
   "outputs": [
    {
     "data": {
      "text/plain": [
       "pl_hostname               GJ 1214\n",
       "pl_letter                       b\n",
       "pl_name                 GJ 1214 b\n",
       "pl_discmethod             Transit\n",
       "pl_pnum                         1\n",
       "pl_orbper                  1.5804\n",
       "pl_orbpererr1             1.6e-07\n",
       "pl_orbpererr2            -1.6e-07\n",
       "pl_orbperlim                    0\n",
       "pl_orbpern                     13\n",
       "pl_orbsmax                0.01411\n",
       "pl_orbsmaxerr1            0.00032\n",
       "pl_orbsmaxerr2           -0.00032\n",
       "pl_orbsmaxlim                   0\n",
       "pl_orbsmaxn                     1\n",
       "pl_orbeccen                   NaN\n",
       "pl_orbeccenerr1               NaN\n",
       "pl_orbeccenerr2               NaN\n",
       "pl_orbeccenlim                NaN\n",
       "pl_orbeccenn                    3\n",
       "pl_orbincl                  88.17\n",
       "pl_orbinclerr1               0.54\n",
       "pl_orbinclerr2              -0.54\n",
       "pl_orbincllim                   0\n",
       "pl_orbincln                    11\n",
       "pl_bmassj                  0.0197\n",
       "pl_bmassjerr1              0.0027\n",
       "pl_bmassjerr2             -0.0027\n",
       "pl_bmassjlim                    0\n",
       "pl_bmassn                       5\n",
       "                        ...      \n",
       "st_optmaglim                    0\n",
       "st_optband            V (Johnson)\n",
       "gaia_gmag                  13.009\n",
       "gaia_gmagerr                  NaN\n",
       "gaia_gmaglim                    0\n",
       "st_teff                      3026\n",
       "st_tefferr1                   150\n",
       "st_tefferr2                  -150\n",
       "st_tefflim                      0\n",
       "st_teffn                       10\n",
       "st_mass                      0.15\n",
       "st_masserr1                  0.01\n",
       "st_masserr2                 -0.01\n",
       "st_masslim                      0\n",
       "st_massn                        7\n",
       "st_rad                       0.22\n",
       "st_raderr1                   0.01\n",
       "st_raderr2                  -0.01\n",
       "st_radlim                       0\n",
       "st_radn                        10\n",
       "pl_nnotes                       3\n",
       "rowupdate              2015-12-03\n",
       "pl_facility        MEarth Project\n",
       "b                         23.6108\n",
       "l                          26.164\n",
       "d                           12.95\n",
       "gal_inwards               10.6501\n",
       "gal_eastwards             5.23219\n",
       "gal_upwards               5.18676\n",
       "colorbin                        0\n",
       "Name: 149, Length: 88, dtype: object"
      ]
     },
     "execution_count": 171,
     "metadata": {},
     "output_type": "execute_result"
    }
   ],
   "source": [
    "near.loc[near.pl_hostname==\"GJ 1214\"].iloc[0]"
   ]
  },
  {
   "cell_type": "code",
   "execution_count": null,
   "metadata": {
    "collapsed": true
   },
   "outputs": [],
   "source": []
  },
  {
   "cell_type": "code",
   "execution_count": null,
   "metadata": {
    "collapsed": true
   },
   "outputs": [],
   "source": []
  },
  {
   "cell_type": "code",
   "execution_count": 138,
   "metadata": {},
   "outputs": [
    {
     "data": {
      "text/plain": [
       "168       GJ 676 A d\n",
       "413      HD 189733 b\n",
       "2910    TRAPPIST-1 h\n",
       "3192      GJ 676 A e\n",
       "3765      HD 26965 b\n",
       "Name: pl_name, dtype: object"
      ]
     },
     "execution_count": 138,
     "metadata": {},
     "output_type": "execute_result"
    }
   ],
   "source": [
    "near.loc[pd.isnull(near.pl_orbsmax),'pl_name']"
   ]
  },
  {
   "cell_type": "code",
   "execution_count": 137,
   "metadata": {},
   "outputs": [
    {
     "data": {
      "text/plain": [
       "Index(['pl_hostname', 'pl_letter', 'pl_name', 'pl_discmethod', 'pl_pnum',\n",
       "       'pl_orbper', 'pl_orbpererr1', 'pl_orbpererr2', 'pl_orbperlim',\n",
       "       'pl_orbpern', 'pl_orbsmax', 'pl_orbsmaxerr1', 'pl_orbsmaxerr2',\n",
       "       'pl_orbsmaxlim', 'pl_orbsmaxn', 'pl_orbeccen', 'pl_orbeccenerr1',\n",
       "       'pl_orbeccenerr2', 'pl_orbeccenlim', 'pl_orbeccenn', 'pl_orbincl',\n",
       "       'pl_orbinclerr1', 'pl_orbinclerr2', 'pl_orbincllim', 'pl_orbincln',\n",
       "       'pl_bmassj', 'pl_bmassjerr1', 'pl_bmassjerr2', 'pl_bmassjlim',\n",
       "       'pl_bmassn', 'pl_bmassprov', 'pl_radj', 'pl_radjerr1', 'pl_radjerr2',\n",
       "       'pl_radjlim', 'pl_radn', 'pl_dens', 'pl_denserr1', 'pl_denserr2',\n",
       "       'pl_denslim', 'pl_densn', 'pl_ttvflag', 'pl_kepflag', 'pl_k2flag',\n",
       "       'ra_str', 'dec_str', 'ra', 'st_raerr', 'dec', 'st_decerr', 'st_posn',\n",
       "       'st_dist', 'st_disterr1', 'st_disterr2', 'st_distlim', 'st_distn',\n",
       "       'st_optmag', 'st_optmagerr', 'st_optmaglim', 'st_optband', 'gaia_gmag',\n",
       "       'gaia_gmagerr', 'gaia_gmaglim', 'st_teff', 'st_tefferr1', 'st_tefferr2',\n",
       "       'st_tefflim', 'st_teffn', 'st_mass', 'st_masserr1', 'st_masserr2',\n",
       "       'st_masslim', 'st_massn', 'st_rad', 'st_raderr1', 'st_raderr2',\n",
       "       'st_radlim', 'st_radn', 'pl_nnotes', 'rowupdate', 'pl_facility', 'b',\n",
       "       'l', 'd', 'gal_inwards', 'gal_eastwards', 'gal_upwards', 'colorbin'],\n",
       "      dtype='object')"
      ]
     },
     "execution_count": 137,
     "metadata": {},
     "output_type": "execute_result"
    }
   ],
   "source": [
    "near.columns"
   ]
  },
  {
   "cell_type": "code",
   "execution_count": null,
   "metadata": {
    "collapsed": true
   },
   "outputs": [],
   "source": []
  },
  {
   "cell_type": "code",
   "execution_count": null,
   "metadata": {
    "collapsed": true
   },
   "outputs": [],
   "source": []
  },
  {
   "cell_type": "code",
   "execution_count": null,
   "metadata": {
    "collapsed": true
   },
   "outputs": [],
   "source": []
  },
  {
   "cell_type": "code",
   "execution_count": null,
   "metadata": {
    "collapsed": true
   },
   "outputs": [],
   "source": []
  },
  {
   "cell_type": "code",
   "execution_count": null,
   "metadata": {
    "collapsed": true
   },
   "outputs": [],
   "source": []
  },
  {
   "cell_type": "code",
   "execution_count": null,
   "metadata": {
    "collapsed": true
   },
   "outputs": [],
   "source": []
  },
  {
   "cell_type": "code",
   "execution_count": null,
   "metadata": {
    "collapsed": true
   },
   "outputs": [],
   "source": []
  },
  {
   "cell_type": "code",
   "execution_count": null,
   "metadata": {
    "collapsed": true
   },
   "outputs": [],
   "source": []
  },
  {
   "cell_type": "code",
   "execution_count": null,
   "metadata": {
    "collapsed": true
   },
   "outputs": [],
   "source": []
  },
  {
   "cell_type": "code",
   "execution_count": null,
   "metadata": {
    "collapsed": true
   },
   "outputs": [],
   "source": []
  },
  {
   "cell_type": "code",
   "execution_count": null,
   "metadata": {
    "collapsed": true
   },
   "outputs": [],
   "source": []
  },
  {
   "cell_type": "code",
   "execution_count": null,
   "metadata": {
    "collapsed": true
   },
   "outputs": [],
   "source": []
  },
  {
   "cell_type": "code",
   "execution_count": null,
   "metadata": {
    "collapsed": true
   },
   "outputs": [],
   "source": []
  },
  {
   "cell_type": "code",
   "execution_count": 38,
   "metadata": {},
   "outputs": [
    {
     "data": {
      "text/plain": [
       "array([ 4,  2,  2,  5,  3,  3,  4,  3,  3,  3, 10,  0,  4,  1,  1,  1,  1,\n",
       "        2,  2,  1,  1,  2,  1,  1,  1,  1,  3,  3,  2,  2,  2,  1,  1,  2,\n",
       "        4,  3,  3,  5,  3,  4,  4,  3,  3,  7,  4,  4,  4,  4,  4,  4,  4,\n",
       "        4,  4,  5,  5,  6,  6,  9,  8,  3,  6,  3,  6,  6,  0,  0,  0,  1,\n",
       "        1,  1,  4,  2,  3,  3,  3,  0,  3,  3,  3,  3,  2,  3,  3,  3,  1,\n",
       "        4,  4,  5,  5,  5,  3,  1,  6,  2,  2,  1,  2,  2,  1,  3,  2,  0,\n",
       "        0,  0,  0,  0,  0,  0,  1,  1,  0,  4,  5,  4,  4,  4,  5,  1,  1,\n",
       "        1,  2,  1,  4,  4,  2,  3,  5,  2,  2,  0,  3,  3,  1,  1,  0,  2,\n",
       "        5,  3,  3,  3,  3,  3,  0,  0,  0,  1,  1,  0,  4,  2,  3,  0,  0])"
      ]
     },
     "execution_count": 38,
     "metadata": {},
     "output_type": "execute_result"
    }
   ],
   "source": []
  },
  {
   "cell_type": "code",
   "execution_count": null,
   "metadata": {
    "collapsed": true
   },
   "outputs": [],
   "source": []
  },
  {
   "cell_type": "code",
   "execution_count": null,
   "metadata": {
    "collapsed": true
   },
   "outputs": [],
   "source": []
  },
  {
   "cell_type": "code",
   "execution_count": null,
   "metadata": {
    "collapsed": true
   },
   "outputs": [],
   "source": []
  },
  {
   "cell_type": "code",
   "execution_count": 32,
   "metadata": {},
   "outputs": [
    {
     "data": {
      "text/plain": [
       "(array([21., 29., 22., 35., 25., 11.,  6.,  1.,  1.,  2.]),\n",
       " array([0.03 , 0.237, 0.444, 0.651, 0.858, 1.065, 1.272, 1.479, 1.686,\n",
       "        1.893, 2.1  ]),\n",
       " <a list of 10 Patch objects>)"
      ]
     },
     "execution_count": 32,
     "metadata": {},
     "output_type": "execute_result"
    }
   ],
   "source": [
    "mass_hist"
   ]
  },
  {
   "cell_type": "code",
   "execution_count": null,
   "metadata": {
    "collapsed": true
   },
   "outputs": [],
   "source": []
  },
  {
   "cell_type": "code",
   "execution_count": null,
   "metadata": {
    "collapsed": true
   },
   "outputs": [],
   "source": []
  },
  {
   "cell_type": "code",
   "execution_count": null,
   "metadata": {
    "collapsed": true
   },
   "outputs": [],
   "source": []
  },
  {
   "cell_type": "code",
   "execution_count": null,
   "metadata": {
    "collapsed": true
   },
   "outputs": [],
   "source": []
  },
  {
   "cell_type": "code",
   "execution_count": null,
   "metadata": {
    "collapsed": true
   },
   "outputs": [],
   "source": []
  },
  {
   "cell_type": "code",
   "execution_count": null,
   "metadata": {
    "collapsed": true
   },
   "outputs": [],
   "source": []
  },
  {
   "cell_type": "code",
   "execution_count": null,
   "metadata": {
    "collapsed": true
   },
   "outputs": [],
   "source": []
  },
  {
   "cell_type": "code",
   "execution_count": null,
   "metadata": {
    "collapsed": true
   },
   "outputs": [],
   "source": []
  },
  {
   "cell_type": "code",
   "execution_count": null,
   "metadata": {
    "collapsed": true
   },
   "outputs": [],
   "source": []
  },
  {
   "cell_type": "code",
   "execution_count": null,
   "metadata": {
    "collapsed": true
   },
   "outputs": [],
   "source": []
  },
  {
   "cell_type": "code",
   "execution_count": null,
   "metadata": {
    "collapsed": true
   },
   "outputs": [],
   "source": []
  },
  {
   "cell_type": "code",
   "execution_count": null,
   "metadata": {
    "collapsed": true
   },
   "outputs": [],
   "source": []
  },
  {
   "cell_type": "code",
   "execution_count": null,
   "metadata": {
    "collapsed": true
   },
   "outputs": [],
   "source": []
  },
  {
   "cell_type": "code",
   "execution_count": null,
   "metadata": {
    "collapsed": true
   },
   "outputs": [],
   "source": []
  },
  {
   "cell_type": "code",
   "execution_count": null,
   "metadata": {
    "collapsed": true
   },
   "outputs": [],
   "source": []
  },
  {
   "cell_type": "code",
   "execution_count": null,
   "metadata": {
    "collapsed": true
   },
   "outputs": [],
   "source": []
  },
  {
   "cell_type": "code",
   "execution_count": null,
   "metadata": {
    "collapsed": true
   },
   "outputs": [],
   "source": []
  },
  {
   "cell_type": "code",
   "execution_count": null,
   "metadata": {
    "collapsed": true
   },
   "outputs": [],
   "source": []
  },
  {
   "cell_type": "code",
   "execution_count": null,
   "metadata": {
    "collapsed": true
   },
   "outputs": [],
   "source": []
  },
  {
   "cell_type": "code",
   "execution_count": null,
   "metadata": {
    "collapsed": true
   },
   "outputs": [],
   "source": []
  },
  {
   "cell_type": "code",
   "execution_count": null,
   "metadata": {
    "collapsed": true
   },
   "outputs": [],
   "source": []
  },
  {
   "cell_type": "code",
   "execution_count": null,
   "metadata": {
    "collapsed": true
   },
   "outputs": [],
   "source": []
  },
  {
   "cell_type": "code",
   "execution_count": null,
   "metadata": {
    "collapsed": true
   },
   "outputs": [],
   "source": []
  },
  {
   "cell_type": "code",
   "execution_count": null,
   "metadata": {
    "collapsed": true
   },
   "outputs": [],
   "source": []
  },
  {
   "cell_type": "code",
   "execution_count": null,
   "metadata": {
    "collapsed": true
   },
   "outputs": [],
   "source": []
  },
  {
   "cell_type": "code",
   "execution_count": null,
   "metadata": {
    "collapsed": true
   },
   "outputs": [],
   "source": []
  },
  {
   "cell_type": "code",
   "execution_count": null,
   "metadata": {
    "collapsed": true
   },
   "outputs": [],
   "source": []
  },
  {
   "cell_type": "code",
   "execution_count": null,
   "metadata": {
    "collapsed": true
   },
   "outputs": [],
   "source": []
  },
  {
   "cell_type": "code",
   "execution_count": null,
   "metadata": {
    "collapsed": true
   },
   "outputs": [],
   "source": []
  },
  {
   "cell_type": "code",
   "execution_count": null,
   "metadata": {
    "collapsed": true
   },
   "outputs": [],
   "source": []
  },
  {
   "cell_type": "code",
   "execution_count": null,
   "metadata": {
    "collapsed": true
   },
   "outputs": [],
   "source": []
  },
  {
   "cell_type": "code",
   "execution_count": null,
   "metadata": {
    "collapsed": true
   },
   "outputs": [],
   "source": []
  },
  {
   "cell_type": "code",
   "execution_count": null,
   "metadata": {
    "collapsed": true
   },
   "outputs": [],
   "source": []
  },
  {
   "cell_type": "code",
   "execution_count": null,
   "metadata": {
    "collapsed": true
   },
   "outputs": [],
   "source": []
  },
  {
   "cell_type": "code",
   "execution_count": null,
   "metadata": {
    "collapsed": true
   },
   "outputs": [],
   "source": []
  },
  {
   "cell_type": "code",
   "execution_count": null,
   "metadata": {
    "collapsed": true
   },
   "outputs": [],
   "source": []
  },
  {
   "cell_type": "code",
   "execution_count": null,
   "metadata": {
    "collapsed": true
   },
   "outputs": [],
   "source": []
  },
  {
   "cell_type": "code",
   "execution_count": null,
   "metadata": {
    "collapsed": true
   },
   "outputs": [],
   "source": []
  },
  {
   "cell_type": "code",
   "execution_count": null,
   "metadata": {
    "collapsed": true
   },
   "outputs": [],
   "source": []
  },
  {
   "cell_type": "code",
   "execution_count": null,
   "metadata": {
    "collapsed": true
   },
   "outputs": [],
   "source": [
    "0.210*1.8266"
   ]
  },
  {
   "cell_type": "code",
   "execution_count": null,
   "metadata": {
    "collapsed": true
   },
   "outputs": [],
   "source": [
    "table.dec_str"
   ]
  },
  {
   "cell_type": "code",
   "execution_count": null,
   "metadata": {
    "collapsed": true
   },
   "outputs": [],
   "source": []
  },
  {
   "cell_type": "code",
   "execution_count": null,
   "metadata": {
    "collapsed": true
   },
   "outputs": [],
   "source": []
  },
  {
   "cell_type": "code",
   "execution_count": null,
   "metadata": {
    "collapsed": true
   },
   "outputs": [],
   "source": []
  },
  {
   "cell_type": "code",
   "execution_count": null,
   "metadata": {
    "collapsed": true
   },
   "outputs": [],
   "source": []
  },
  {
   "cell_type": "code",
   "execution_count": null,
   "metadata": {
    "collapsed": true
   },
   "outputs": [],
   "source": []
  },
  {
   "cell_type": "code",
   "execution_count": null,
   "metadata": {
    "collapsed": true
   },
   "outputs": [],
   "source": []
  },
  {
   "cell_type": "code",
   "execution_count": null,
   "metadata": {
    "collapsed": true
   },
   "outputs": [],
   "source": []
  },
  {
   "cell_type": "code",
   "execution_count": null,
   "metadata": {
    "collapsed": true
   },
   "outputs": [],
   "source": []
  },
  {
   "cell_type": "code",
   "execution_count": null,
   "metadata": {
    "collapsed": true
   },
   "outputs": [],
   "source": []
  },
  {
   "cell_type": "code",
   "execution_count": null,
   "metadata": {
    "collapsed": true
   },
   "outputs": [],
   "source": []
  },
  {
   "cell_type": "code",
   "execution_count": null,
   "metadata": {
    "collapsed": true
   },
   "outputs": [],
   "source": []
  },
  {
   "cell_type": "code",
   "execution_count": null,
   "metadata": {
    "collapsed": true
   },
   "outputs": [],
   "source": []
  },
  {
   "cell_type": "code",
   "execution_count": null,
   "metadata": {
    "collapsed": true
   },
   "outputs": [],
   "source": []
  },
  {
   "cell_type": "code",
   "execution_count": null,
   "metadata": {
    "collapsed": true
   },
   "outputs": [],
   "source": [
    "Table."
   ]
  }
 ],
 "metadata": {
  "kernelspec": {
   "display_name": "Python 3",
   "language": "python",
   "name": "python3"
  },
  "language_info": {
   "codemirror_mode": {
    "name": "ipython",
    "version": 3
   },
   "file_extension": ".py",
   "mimetype": "text/x-python",
   "name": "python",
   "nbconvert_exporter": "python",
   "pygments_lexer": "ipython3",
   "version": "3.6.1"
  }
 },
 "nbformat": 4,
 "nbformat_minor": 2
}
